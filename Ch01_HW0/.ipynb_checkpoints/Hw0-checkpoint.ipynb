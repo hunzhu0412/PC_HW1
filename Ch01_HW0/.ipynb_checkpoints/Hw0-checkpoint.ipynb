{
 "cells": [
  {
   "cell_type": "markdown",
   "metadata": {},
   "source": [
    "# n = 3"
   ]
  },
  {
   "cell_type": "code",
   "execution_count": 3,
   "metadata": {},
   "outputs": [
    {
     "name": "stdout",
     "output_type": "stream",
     "text": [
      " \n",
      "\n",
      "n= 3,  \n",
      "\n",
      "A= [[ 8 -5  8]\n",
      " [ 1  0  4]\n",
      " [ 8 -6 -1]] \n",
      "\n",
      "b= [[-5]\n",
      " [ 1]\n",
      " [ 2]] \n",
      "\n",
      "x= [[10.14285714]\n",
      " [13.57142857]\n",
      " [-2.28571429]] \n",
      "\n",
      "\n"
     ]
    }
   ],
   "source": [
    "import numpy as np\n",
    " \n",
    "n = 3 #3個變數\n",
    "\n",
    "A= np.random.randint(-10,10,size=(n,n)) #係數隨機範圍-10 ~ 10\n",
    "\n",
    "np.random.seed(1) #給定亂數種子\n",
    "\n",
    "b= np.random.randint(-10,10,size=(n,1)) #給定每個方程式的值 範圍-10 ~ 10\n",
    "\n",
    "x= np.linalg.solve(A, b) #解聯立方程\n",
    "\n",
    "\n",
    "print( \n",
    "\n",
    "f''' \n",
    "\n",
    "n= {n},  \n",
    "\n",
    "A= {A} \n",
    "\n",
    "b= {b} \n",
    "\n",
    "x= {x} \n",
    "\n",
    "''') "
   ]
  },
  {
   "cell_type": "markdown",
   "metadata": {},
   "source": [
    "# n = 5"
   ]
  },
  {
   "cell_type": "code",
   "execution_count": 4,
   "metadata": {},
   "outputs": [
    {
     "name": "stdout",
     "output_type": "stream",
     "text": [
      " \n",
      "\n",
      "n= 5,  \n",
      "\n",
      "A= [[ -2  -1   1  -5   5]\n",
      " [-10   6  -9   2  -3]\n",
      " [  3  -4   8  -5   8]\n",
      " [  1   0   4   8  -6]\n",
      " [ -1   7 -10   3  -1]] \n",
      "\n",
      "b= [[-5]\n",
      " [ 1]\n",
      " [ 2]\n",
      " [-2]\n",
      " [-1]] \n",
      "\n",
      "x= [[ -13.64874552]\n",
      " [-100.04301075]\n",
      " [ -53.7562724 ]\n",
      " [  66.18637993]\n",
      " [  50.46953405]] \n",
      "\n",
      "\n"
     ]
    }
   ],
   "source": [
    "n = 5 #5個變數\n",
    "\n",
    "A= np.random.randint(-10,10,size=(n,n)) #係數隨機範圍-10 ~ 10\n",
    "\n",
    "np.random.seed(1) #給定亂數種子\n",
    "\n",
    "b= np.random.randint(-10,10,size=(n,1)) #給定每個方程式的值 範圍-10 ~ 10\n",
    "\n",
    "x= np.linalg.solve(A, b) #解聯立方程\n",
    "\n",
    "\n",
    "print( \n",
    "\n",
    "f''' \n",
    "\n",
    "n= {n},  \n",
    "\n",
    "A= {A} \n",
    "\n",
    "b= {b} \n",
    "\n",
    "x= {x} \n",
    "\n",
    "''') "
   ]
  },
  {
   "cell_type": "markdown",
   "metadata": {},
   "source": [
    "# n = 10"
   ]
  },
  {
   "cell_type": "code",
   "execution_count": 5,
   "metadata": {},
   "outputs": [
    {
     "name": "stdout",
     "output_type": "stream",
     "text": [
      " \n",
      "\n",
      "n= 10,  \n",
      "\n",
      "A= [[  1  -5   5 -10   6  -9   2  -3   3  -4]\n",
      " [  8  -5   8   1   0   4   8  -6  -1   7]\n",
      " [-10   3  -1  -1  -3  -9 -10   7  -2   3]\n",
      " [  9   5   0  -2  -3  -7  -4   7  -7  -6]\n",
      " [  7   1   2   6   3   9  -1   8   5 -10]\n",
      " [ -6   5  -8  -3  -2  -1  -7  -3  -6  -5]\n",
      " [  9  -4  -2 -10  -8   0   5   5  -3   9]\n",
      " [  0   4 -10  -9   7   3  -7 -10   3  -4]\n",
      " [ -4  -8   2   1  -3   3  -2   1   2   1]\n",
      " [ -6  -3  -3   3  -6   6   8 -10   3   0]] \n",
      "\n",
      "b= [[ -5]\n",
      " [  1]\n",
      " [  2]\n",
      " [ -2]\n",
      " [ -1]\n",
      " [  1]\n",
      " [ -5]\n",
      " [  5]\n",
      " [-10]\n",
      " [  6]] \n",
      "\n",
      "x= [[-0.23666858]\n",
      " [ 2.24914947]\n",
      " [ 1.14820126]\n",
      " [-0.53803661]\n",
      " [-0.87130973]\n",
      " [ 0.37778005]\n",
      " [ 0.03547092]\n",
      " [-0.56274701]\n",
      " [ 0.99345816]\n",
      " [ 0.18765873]] \n",
      "\n",
      "\n"
     ]
    }
   ],
   "source": [
    "n = 10 #10個變數\n",
    "\n",
    "A= np.random.randint(-10,10,size=(n,n)) #係數隨機範圍-10 ~ 10\n",
    "\n",
    "np.random.seed(1) #給定亂數種子\n",
    "\n",
    "b= np.random.randint(-10,10,size=(n,1)) #給定每個方程式的值 範圍-10 ~ 10\n",
    "\n",
    "x= np.linalg.solve(A, b) #解聯立方程\n",
    "\n",
    "\n",
    "print( \n",
    "\n",
    "f''' \n",
    "\n",
    "n= {n},  \n",
    "\n",
    "A= {A} \n",
    "\n",
    "b= {b} \n",
    "\n",
    "x= {x} \n",
    "\n",
    "''') "
   ]
  },
  {
   "cell_type": "code",
   "execution_count": null,
   "metadata": {},
   "outputs": [],
   "source": []
  }
 ],
 "metadata": {
  "kernelspec": {
   "display_name": "Python 3",
   "language": "python",
   "name": "python3"
  },
  "language_info": {
   "codemirror_mode": {
    "name": "ipython",
    "version": 3
   },
   "file_extension": ".py",
   "mimetype": "text/x-python",
   "name": "python",
   "nbconvert_exporter": "python",
   "pygments_lexer": "ipython3",
   "version": "3.8.3"
  }
 },
 "nbformat": 4,
 "nbformat_minor": 4
}
